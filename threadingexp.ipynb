{
 "cells": [
  {
   "cell_type": "code",
   "execution_count": 1,
   "metadata": {},
   "outputs": [],
   "source": [
    "import futureproof\n",
    "import random\n",
    "import threading"
   ]
  },
  {
   "attachments": {},
   "cell_type": "markdown",
   "metadata": {},
   "source": [
    "## W/o threads"
   ]
  },
  {
   "cell_type": "code",
   "execution_count": 2,
   "metadata": {},
   "outputs": [],
   "source": [
    "#### Defining the function \n",
    "def demo_func(num):\n",
    "    for i in range(num):\n",
    "        a = i**2\n",
    "#### Calling demo function sequentially\n",
    "for i in range(6):\n",
    "    demo_func(10000000)"
   ]
  },
  {
   "attachments": {},
   "cell_type": "markdown",
   "metadata": {},
   "source": [
    "## W/ threads\n",
    "\n",
    "$x^2 + \\sqrt{5x}$"
   ]
  }
 ],
 "metadata": {
  "kernelspec": {
   "display_name": "Python 3",
   "language": "python",
   "name": "python3"
  },
  "language_info": {
   "codemirror_mode": {
    "name": "ipython",
    "version": 3
   },
   "file_extension": ".py",
   "mimetype": "text/x-python",
   "name": "python",
   "nbconvert_exporter": "python",
   "pygments_lexer": "ipython3",
   "version": "3.10.3"
  },
  "orig_nbformat": 4,
  "vscode": {
   "interpreter": {
    "hash": "9b98987dd331e50db4fb2cd2e836ef134cefc62d880af3b21d3292ebd6bf147c"
   }
  }
 },
 "nbformat": 4,
 "nbformat_minor": 2
}
