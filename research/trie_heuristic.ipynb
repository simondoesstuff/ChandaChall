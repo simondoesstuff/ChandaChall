{
 "cells": [
  {
   "cell_type": "code",
   "execution_count": 1,
   "metadata": {},
   "outputs": [],
   "source": [
    "import trie_heuristic\n",
    "from io_utils import import_solution, import_data"
   ]
  },
  {
   "attachments": {},
   "cell_type": "markdown",
   "metadata": {},
   "source": [
    "# Testing the (modified) Trie data structure"
   ]
  },
  {
   "cell_type": "code",
   "execution_count": 2,
   "metadata": {},
   "outputs": [
    {
     "name": "stdout",
     "output_type": "stream",
     "text": [
      " -> (1,)\n",
      "1 -> (1, 2)\n",
      "1,2 -> (1, 2, 3), (1, 2, 4)\n",
      "1,2,3 -> (1, 2, 3, 9)\n",
      "1,2,4 -> \n",
      "1,2,3,9 -> \n"
     ]
    }
   ],
   "source": [
    "trie = trie_heuristic.Trie()\n",
    "trie.insert((1, 2, 3))\n",
    "trie.insert((1, 2, 3))\n",
    "trie.insert((1, 2, 4))\n",
    "trie.insert((1, 2, 3, 9))\n",
    "trie.describe()"
   ]
  },
  {
   "cell_type": "code",
   "execution_count": 3,
   "metadata": {},
   "outputs": [
    {
     "name": "stdout",
     "output_type": "stream",
     "text": [
      " -> (1,), (2,)\n",
      "2 -> (2, 3)\n",
      "1 -> (1, 2)\n",
      "1,2 -> (1, 2, 3)\n",
      "2,3 -> \n",
      "1,2,3 -> (1, 2, 3, 4)\n",
      "1,2,3,4 -> (1, 2, 3, 4, 5)\n",
      "1,2,3,4,5 -> \n"
     ]
    }
   ],
   "source": [
    "trie = trie_heuristic.Trie()\n",
    "trie.insert((2,))\n",
    "trie.insert((1, 2))\n",
    "trie.insert((2, 3))\n",
    "trie.insert((1, 2, 3))\n",
    "trie.insert((1, 2, 3, 4))\n",
    "trie.insert((1, 2, 3, 4, 5))\n",
    "trie.describe()"
   ]
  },
  {
   "attachments": {},
   "cell_type": "markdown",
   "metadata": {},
   "source": [
    "# Comparing the heuristic with the real solution"
   ]
  },
  {
   "cell_type": "code",
   "execution_count": 4,
   "metadata": {},
   "outputs": [
    {
     "name": "stdout",
     "output_type": "stream",
     "text": [
      "For 12856 real edges, 764 were found in the trie. And the trie had 1053 edges.\n",
      "Matching 5.94% of real edges.\n"
     ]
    }
   ],
   "source": [
    "inputData = import_data(\"data/3515.txt\")\n",
    "trie = trie_heuristic.build_trie(inputData)\n",
    "verifiedSoln = import_solution()\n",
    "\n",
    "matchingEdges = 0\n",
    "totalRealEdges = 0\n",
    "totalTrieEdges = 0\n",
    "\n",
    "for node in verifiedSoln:\n",
    "    totalRealEdges += len(verifiedSoln[node])\n",
    "    \n",
    "    if node in trie.adjacent:\n",
    "        totalTrieEdges += len(trie.adjacent[node])\n",
    "        intersect = verifiedSoln[node].intersection(trie.adjacent[node])\n",
    "        matchingEdges += len(intersect)\n",
    "\n",
    "print(f\"For {totalRealEdges} real edges, {matchingEdges} were found in the trie. And the trie had {totalTrieEdges} edges.\")\n",
    "print(f\"Matching {matchingEdges / totalRealEdges * 100:.2f}% of real edges.\")"
   ]
  },
  {
   "attachments": {},
   "cell_type": "markdown",
   "metadata": {},
   "source": [
    "Even reducing hypothetical nodes could only reach like 10% real edges at best...\n",
    "\n",
    "**The heuristic is a complete failure  :(**"
   ]
  }
 ],
 "metadata": {
  "kernelspec": {
   "display_name": "Python 3",
   "language": "python",
   "name": "python3"
  },
  "language_info": {
   "codemirror_mode": {
    "name": "ipython",
    "version": 3
   },
   "file_extension": ".py",
   "mimetype": "text/x-python",
   "name": "python",
   "nbconvert_exporter": "python",
   "pygments_lexer": "ipython3",
   "version": "3.10.3"
  },
  "orig_nbformat": 4,
  "vscode": {
   "interpreter": {
    "hash": "9b98987dd331e50db4fb2cd2e836ef134cefc62d880af3b21d3292ebd6bf147c"
   }
  }
 },
 "nbformat": 4,
 "nbformat_minor": 2
}
