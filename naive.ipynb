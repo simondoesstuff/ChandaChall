{
 "cells": [
  {
   "cell_type": "code",
   "execution_count": 30,
   "metadata": {},
   "outputs": [],
   "source": [
    "import time\n",
    "\n",
    "\n",
    "def import_sets(path):\n",
    "    with open(path) as f:\n",
    "        S = []\n",
    "        for line in f:\n",
    "            split = [int(x) for x in line.split()]\n",
    "            S.append(set(split))\n",
    "        \n",
    "        return S\n",
    "\n",
    "\n",
    "def process(S):\n",
    "    graph = {}\n",
    "    \n",
    "    for s1 in S:\n",
    "        edges = []\n",
    "                    \n",
    "        for s2 in S:\n",
    "            if s1 == s2:\n",
    "                continue\n",
    "            if not s1.issubset(s2):\n",
    "                continue\n",
    "            \n",
    "            # ensure there is no subset s3 such that s1 < s3 < s2\n",
    "            if any(s1.issubset(s3) and s3.issubset(s2) and s1 != s3 and s3 != s2 for s3 in S):\n",
    "                continue\n",
    "            \n",
    "            edges.append(s2)\n",
    "        \n",
    "        if edges:\n",
    "            graph[frozenset(s1)] = edges\n",
    "\n",
    "    return graph\n",
    "\n",
    "\n",
    "def string_formatted_graph(graph):\n",
    "    # for a key-value pair (k[], v[]), we have:      \"k1, k2, k3 -> v1, v2, v3\"\n",
    "    s = \"\"\n",
    "    \n",
    "    for k, v in graph.items():\n",
    "        for vv in v:\n",
    "            s += ','.join(str(x) for x in list(k))\n",
    "            s += \"->\"\n",
    "            s += ','.join(str(x) for x in vv)\n",
    "            s += \"\\n\"\n",
    "    \n",
    "    return s\n",
    "\n",
    "\n",
    "def export_sets(graph, path):\n",
    "    # the graph is a list of sets\n",
    "    with open(path, 'w') as f:\n",
    "        f.write(string_formatted_graph(graph))"
   ]
  },
  {
   "attachments": {},
   "cell_type": "markdown",
   "metadata": {},
   "source": [
    "## Testing against the example\n",
    "\n",
    "### Example\n",
    "\n",
    "S = {  \n",
    "    {1, 2},  \n",
    "    {1, 2, 3},  \n",
    "    {1, 2, 3, 4},  \n",
    "    {1, 2, 3, 4, 5},  \n",
    "    {2},  \n",
    "    {2, 3}  \n",
    "}  \n",
    "\n",
    "$\\to$ becomes...\n",
    "\n",
    "{  \n",
    "    ({1, 2}, {1, 2, 3}),  \n",
    "    ({1, 2, 3}, {1, 2, 3, 4}),  \n",
    "    ({1, 2, 3}, {1, 2, 3, 5}),\n",
    "    ({2}, {1, 2}),  \n",
    "    ({2}, {2, 3}),  \n",
    "    ({2, 3}, {1, 2, 3})  \n",
    "}  \n",
    "\n",
    "*(I believe they meant, $(\\{1,2,3,4\\}, \\{1,2,3,4,5\\})$)*"
   ]
  },
  {
   "cell_type": "code",
   "execution_count": 31,
   "metadata": {},
   "outputs": [
    {
     "name": "stdout",
     "output_type": "stream",
     "text": [
      "1,2->1,2,3\n",
      "1,2,3->1,2,3,4\n",
      "1,2,3,4->1,2,3,4,5\n",
      "2->1,2\n",
      "2->2,3\n",
      "2,3->1,2,3\n",
      "\n"
     ]
    }
   ],
   "source": [
    "graph = process( [{1, 2}, {1, 2, 3}, {1, 2, 3, 4}, {1, 2, 3, 4, 5}, {2}, {2, 3}])\n",
    "print(string_formatted_graph(graph))"
   ]
  },
  {
   "attachments": {},
   "cell_type": "markdown",
   "metadata": {},
   "source": [
    "## Benchmarking across the data"
   ]
  },
  {
   "cell_type": "code",
   "execution_count": 32,
   "metadata": {},
   "outputs": [
    {
     "name": "stdout",
     "output_type": "stream",
     "text": [
      "n = 26: in 0.00 seconds\n",
      "\n",
      "n = 1109: in 4.77 seconds\n",
      "\n",
      "n = 3515: in 91.99 seconds\n",
      "\n"
     ]
    },
    {
     "ename": "KeyboardInterrupt",
     "evalue": "",
     "output_type": "error",
     "traceback": [
      "\u001b[1;31m---------------------------------------------------------------------------\u001b[0m",
      "\u001b[1;31mKeyboardInterrupt\u001b[0m                         Traceback (most recent call last)",
      "Cell \u001b[1;32mIn[32], line 6\u001b[0m\n\u001b[0;32m      3\u001b[0m S \u001b[39m=\u001b[39m import_sets(path)\n\u001b[0;32m      5\u001b[0m t0 \u001b[39m=\u001b[39m time\u001b[39m.\u001b[39mtime()\n\u001b[1;32m----> 6\u001b[0m graph \u001b[39m=\u001b[39m process(S)\n\u001b[0;32m      7\u001b[0m duration \u001b[39m=\u001b[39m time\u001b[39m.\u001b[39mtime() \u001b[39m-\u001b[39m t0\n\u001b[0;32m      9\u001b[0m export_sets(graph, \u001b[39mf\u001b[39m\u001b[39m'\u001b[39m\u001b[39m./data/\u001b[39m\u001b[39m{\u001b[39;00mp\u001b[39m}\u001b[39;00m\u001b[39m_naiveSoln.json\u001b[39m\u001b[39m'\u001b[39m)\n",
      "Cell \u001b[1;32mIn[30], line 28\u001b[0m, in \u001b[0;36mprocess\u001b[1;34m(S)\u001b[0m\n\u001b[0;32m     25\u001b[0m     \u001b[39mcontinue\u001b[39;00m\n\u001b[0;32m     27\u001b[0m \u001b[39m# ensure there is no subset s3 such that s1 < s3 < s2\u001b[39;00m\n\u001b[1;32m---> 28\u001b[0m \u001b[39mif\u001b[39;00m \u001b[39many\u001b[39;49m(s1\u001b[39m.\u001b[39;49missubset(s3) \u001b[39mand\u001b[39;49;00m s3\u001b[39m.\u001b[39;49missubset(s2) \u001b[39mand\u001b[39;49;00m s1 \u001b[39m!=\u001b[39;49m s3 \u001b[39mand\u001b[39;49;00m s3 \u001b[39m!=\u001b[39;49m s2 \u001b[39mfor\u001b[39;49;00m s3 \u001b[39min\u001b[39;49;00m S):\n\u001b[0;32m     29\u001b[0m     \u001b[39mcontinue\u001b[39;00m\n\u001b[0;32m     31\u001b[0m edges\u001b[39m.\u001b[39mappend(s2)\n",
      "Cell \u001b[1;32mIn[30], line 28\u001b[0m, in \u001b[0;36m<genexpr>\u001b[1;34m(.0)\u001b[0m\n\u001b[0;32m     25\u001b[0m     \u001b[39mcontinue\u001b[39;00m\n\u001b[0;32m     27\u001b[0m \u001b[39m# ensure there is no subset s3 such that s1 < s3 < s2\u001b[39;00m\n\u001b[1;32m---> 28\u001b[0m \u001b[39mif\u001b[39;00m \u001b[39many\u001b[39m(s1\u001b[39m.\u001b[39missubset(s3) \u001b[39mand\u001b[39;00m s3\u001b[39m.\u001b[39;49missubset(s2) \u001b[39mand\u001b[39;00m s1 \u001b[39m!=\u001b[39m s3 \u001b[39mand\u001b[39;00m s3 \u001b[39m!=\u001b[39m s2 \u001b[39mfor\u001b[39;00m s3 \u001b[39min\u001b[39;00m S):\n\u001b[0;32m     29\u001b[0m     \u001b[39mcontinue\u001b[39;00m\n\u001b[0;32m     31\u001b[0m edges\u001b[39m.\u001b[39mappend(s2)\n",
      "\u001b[1;31mKeyboardInterrupt\u001b[0m: "
     ]
    }
   ],
   "source": [
    "for p in [26, 1109, 3515, 79867]:\n",
    "    path = f'./data/{p}.txt'\n",
    "    S = import_sets(path)\n",
    "    \n",
    "    t0 = time.time()\n",
    "    graph = process(S)\n",
    "    duration = time.time() - t0\n",
    "    \n",
    "    export_sets(graph, f'./data/solutions/{p}_naive.txt')\n",
    "    \n",
    "    print(f'n = {p}: in {duration:.2f} seconds')\n",
    "    print()\n",
    "    "
   ]
  },
  {
   "attachments": {},
   "cell_type": "markdown",
   "metadata": {},
   "source": [
    "\n",
    "---\n",
    "\n",
    "**Oudated**\n",
    "\n",
    "\n",
    "## Runtime analysis\n",
    "\n",
    "The curve seems to fit very well with $O(n^2)$ as expected.\n",
    "\n",
    "According to my calculations, it should take  \n",
    "**25m for $n=79867$**  \n",
    "\n",
    "![desmos](6MOTsHN297.png)"
   ]
  }
 ],
 "metadata": {
  "kernelspec": {
   "display_name": "Python 3",
   "language": "python",
   "name": "python3"
  },
  "language_info": {
   "codemirror_mode": {
    "name": "ipython",
    "version": 3
   },
   "file_extension": ".py",
   "mimetype": "text/x-python",
   "name": "python",
   "nbconvert_exporter": "python",
   "pygments_lexer": "ipython3",
   "version": "3.10.3"
  },
  "orig_nbformat": 4,
  "vscode": {
   "interpreter": {
    "hash": "9b98987dd331e50db4fb2cd2e836ef134cefc62d880af3b21d3292ebd6bf147c"
   }
  }
 },
 "nbformat": 4,
 "nbformat_minor": 2
}
