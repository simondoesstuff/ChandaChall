{
 "cells": [
  {
   "cell_type": "code",
   "execution_count": 119,
   "metadata": {},
   "outputs": [],
   "source": [
    "import time\n",
    "import pandas as pd"
   ]
  },
  {
   "cell_type": "code",
   "execution_count": 120,
   "metadata": {},
   "outputs": [],
   "source": [
    "import io_utils\n",
    "\n",
    "\n",
    "def isolate_lineage(node, data):\n",
    "    lineage = [node]\n",
    "    \n",
    "    for n in data:\n",
    "        if len(n) == len(node):\n",
    "            continue\n",
    "        if set(n).issubset(set(node)):\n",
    "            lineage.append(n)\n",
    "        if set(node).issubset(set(n)):\n",
    "            lineage.append(n)\n",
    "    \n",
    "    return lineage\n",
    "\n",
    "\n",
    "def break_by_lineage(data):\n",
    "    bySize = dict()\n",
    "\n",
    "    for node in data:\n",
    "        size = len(node)\n",
    "        bySize.setdefault(size, []).append(node)\n",
    "\n",
    "    lineage_lines = []\n",
    "    remaining = set(data)\n",
    "    \n",
    "    while len(remaining) > 0:\n",
    "        next_key = sorted(bySize.keys())[-1]\n",
    "        next_layer = set(bySize[next_key]).intersection(remaining)\n",
    "        bySize.pop(next_key)\n",
    "\n",
    "        for node in next_layer:\n",
    "            lineage = isolate_lineage(node, data)\n",
    "            lineage_lines.append(lineage)\n",
    "            remaining -= set(lineage)\n",
    "\n",
    "    return lineage_lines"
   ]
  },
  {
   "cell_type": "code",
   "execution_count": 121,
   "metadata": {},
   "outputs": [
    {
     "name": "stdout",
     "output_type": "stream",
     "text": [
      "[[(1, 2, 3, 4, 5), (2,), (1, 2), (2, 3), (1, 2, 3), (1, 2, 3, 4)]]\n"
     ]
    }
   ],
   "source": [
    "data = io_utils.import_data('../data/6.txt')\n",
    "print(break_by_lineage(data))"
   ]
  },
  {
   "cell_type": "code",
   "execution_count": 122,
   "metadata": {},
   "outputs": [
    {
     "name": "stdout",
     "output_type": "stream",
     "text": [
      "Time: 4.444952964782715\n"
     ]
    }
   ],
   "source": [
    "dataset = '3515'\n",
    "data = io_utils.import_data(f'../data/{dataset}.txt')\n",
    "t0 = time.time()\n",
    "chunks = break_by_lineage(data)\n",
    "print(f\"Time: {time.time() - t0}\")"
   ]
  },
  {
   "attachments": {},
   "cell_type": "markdown",
   "metadata": {},
   "source": [
    "# Success?"
   ]
  },
  {
   "cell_type": "code",
   "execution_count": 123,
   "metadata": {},
   "outputs": [
    {
     "name": "stdout",
     "output_type": "stream",
     "text": [
      "Of the 3515 nodes, 2939 are doubled\n",
      "576 are unique\n",
      "\tOverlap: 83.61308677098151%\n",
      "328 chunks\n"
     ]
    },
    {
     "data": {
      "text/html": [
       "<div>\n",
       "<style scoped>\n",
       "    .dataframe tbody tr th:only-of-type {\n",
       "        vertical-align: middle;\n",
       "    }\n",
       "\n",
       "    .dataframe tbody tr th {\n",
       "        vertical-align: top;\n",
       "    }\n",
       "\n",
       "    .dataframe thead th {\n",
       "        text-align: right;\n",
       "    }\n",
       "</style>\n",
       "<table border=\"1\" class=\"dataframe\">\n",
       "  <thead>\n",
       "    <tr style=\"text-align: right;\">\n",
       "      <th></th>\n",
       "      <th>0</th>\n",
       "    </tr>\n",
       "  </thead>\n",
       "  <tbody>\n",
       "    <tr>\n",
       "      <th>count</th>\n",
       "      <td>328.000000</td>\n",
       "    </tr>\n",
       "    <tr>\n",
       "      <th>mean</th>\n",
       "      <td>423.570122</td>\n",
       "    </tr>\n",
       "    <tr>\n",
       "      <th>std</th>\n",
       "      <td>610.143184</td>\n",
       "    </tr>\n",
       "    <tr>\n",
       "      <th>min</th>\n",
       "      <td>3.000000</td>\n",
       "    </tr>\n",
       "    <tr>\n",
       "      <th>25%</th>\n",
       "      <td>31.750000</td>\n",
       "    </tr>\n",
       "    <tr>\n",
       "      <th>50%</th>\n",
       "      <td>165.000000</td>\n",
       "    </tr>\n",
       "    <tr>\n",
       "      <th>75%</th>\n",
       "      <td>352.500000</td>\n",
       "    </tr>\n",
       "    <tr>\n",
       "      <th>max</th>\n",
       "      <td>1999.000000</td>\n",
       "    </tr>\n",
       "  </tbody>\n",
       "</table>\n",
       "</div>"
      ],
      "text/plain": [
       "                 0\n",
       "count   328.000000\n",
       "mean    423.570122\n",
       "std     610.143184\n",
       "min       3.000000\n",
       "25%      31.750000\n",
       "50%     165.000000\n",
       "75%     352.500000\n",
       "max    1999.000000"
      ]
     },
     "execution_count": 123,
     "metadata": {},
     "output_type": "execute_result"
    }
   ],
   "source": [
    "known_nodes = set()\n",
    "doubled_nodes = set()\n",
    "\n",
    "for chunk in chunks:\n",
    "    for node in chunk:\n",
    "        if node in known_nodes:\n",
    "            doubled_nodes.add(node)\n",
    "        known_nodes.add(node)\n",
    "\n",
    "print(f\"Of the {len(known_nodes)} nodes, {len(doubled_nodes)} are doubled\")\n",
    "print(f\"{len(known_nodes) - len(doubled_nodes)} are unique\")\n",
    "print(f\"\\tOverlap: {len(doubled_nodes) * 100 / len(known_nodes)}%\")\n",
    "\n",
    "print(f\"{len(chunks)} chunks\")\n",
    "df = pd.DataFrame([len(chunk) for chunk in chunks])\n",
    "df.describe()"
   ]
  }
 ],
 "metadata": {
  "kernelspec": {
   "display_name": "Python 3",
   "language": "python",
   "name": "python3"
  },
  "language_info": {
   "codemirror_mode": {
    "name": "ipython",
    "version": 3
   },
   "file_extension": ".py",
   "mimetype": "text/x-python",
   "name": "python",
   "nbconvert_exporter": "python",
   "pygments_lexer": "ipython3",
   "version": "3.11.1"
  },
  "orig_nbformat": 4
 },
 "nbformat": 4,
 "nbformat_minor": 2
}
