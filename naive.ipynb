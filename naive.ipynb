{
 "cells": [
  {
   "cell_type": "code",
   "execution_count": 1,
   "metadata": {},
   "outputs": [],
   "source": [
    "import io_utils\n",
    "import time"
   ]
  },
  {
   "cell_type": "code",
   "execution_count": 2,
   "metadata": {},
   "outputs": [],
   "source": [
    "def process(S):\n",
    "    graph = {}\n",
    "    \n",
    "    for s1 in S:\n",
    "        edges = []\n",
    "                    \n",
    "        for s2 in S:\n",
    "            if s1 == s2:\n",
    "                continue\n",
    "            if not set(s1).issubset(s2):\n",
    "                continue\n",
    "            \n",
    "            # ensure there is no subset s3 such that s1 < s3 < s2\n",
    "            if any(s1.issubset(s3) and s3.issubset(s2) and s1 != s3 and s3 != s2 for s3 in S):\n",
    "                continue\n",
    "            \n",
    "            edges.append(s2)\n",
    "        \n",
    "        if edges:\n",
    "            graph[s1] = edges\n",
    "\n",
    "    return graph"
   ]
  },
  {
   "attachments": {},
   "cell_type": "markdown",
   "metadata": {},
   "source": [
    "## Testing against the example\n",
    "\n",
    "### Example\n",
    "\n",
    "S = {  \n",
    "    {1, 2},  \n",
    "    {1, 2, 3},  \n",
    "    {1, 2, 3, 4},  \n",
    "    {1, 2, 3, 4, 5},  \n",
    "    {2},  \n",
    "    {2, 3}  \n",
    "}  \n",
    "\n",
    "$\\to$ becomes...\n",
    "\n",
    "{  \n",
    "    ({1, 2}, {1, 2, 3}),  \n",
    "    ({1, 2, 3}, {1, 2, 3, 4}),  \n",
    "    ({1, 2, 3}, {1, 2, 3, 5}),\n",
    "    ({2}, {1, 2}),  \n",
    "    ({2}, {2, 3}),  \n",
    "    ({2, 3}, {1, 2, 3})  \n",
    "}  \n",
    "\n",
    "*(I believe they meant, $(\\{1,2,3,4\\}, \\{1,2,3,4,5\\})$)*"
   ]
  },
  {
   "cell_type": "code",
   "execution_count": 3,
   "metadata": {},
   "outputs": [
    {
     "name": "stdout",
     "output_type": "stream",
     "text": [
      "(1,2) ->  \t (1,2,3)\n",
      "(1,2,3) ->  \t (1,2,3,4)\n",
      "(1,2,3,4) ->  \t (1,2,3,4,5)\n",
      "(2) ->  \t (1,2), (2,3)\n",
      "(2,3) ->  \t (1,2,3)\n"
     ]
    }
   ],
   "source": [
    "data = [(1, 2), (1, 2, 3), (1, 2, 3, 4), (1, 2, 3, 4, 5), (2,), (2, 3)]\n",
    "data = [ frozenset(x) for x in data ]\n",
    "graph = process( data )\n",
    "\n",
    "for k, v in graph.items():\n",
    "    clean = lambda x: '(' + (','.join(str(x) for x in sorted(x)) + ')')\n",
    "    print(clean(k), '->  \\t', ', '.join([clean(x) for x in sorted(v)]))"
   ]
  },
  {
   "attachments": {},
   "cell_type": "markdown",
   "metadata": {},
   "source": [
    "## Benchmarking across the data"
   ]
  },
  {
   "cell_type": "code",
   "execution_count": 4,
   "metadata": {},
   "outputs": [
    {
     "name": "stdout",
     "output_type": "stream",
     "text": [
      "n = 26: in 0.00 seconds\n",
      "\n",
      "n = 1109: in 6.27 seconds\n",
      "\n",
      "n = 3515: in 127.00 seconds\n",
      "\n"
     ]
    },
    {
     "ename": "KeyboardInterrupt",
     "evalue": "",
     "output_type": "error",
     "traceback": [
      "\u001b[1;31m---------------------------------------------------------------------------\u001b[0m",
      "\u001b[1;31mKeyboardInterrupt\u001b[0m                         Traceback (most recent call last)",
      "Cell \u001b[1;32mIn[4], line 6\u001b[0m\n\u001b[0;32m      3\u001b[0m S \u001b[39m=\u001b[39m io_utils\u001b[39m.\u001b[39mimport_data_sets(path)\n\u001b[0;32m      5\u001b[0m t0 \u001b[39m=\u001b[39m time\u001b[39m.\u001b[39mtime()\n\u001b[1;32m----> 6\u001b[0m graph \u001b[39m=\u001b[39m process(S)\n\u001b[0;32m      7\u001b[0m duration \u001b[39m=\u001b[39m time\u001b[39m.\u001b[39mtime() \u001b[39m-\u001b[39m t0\n\u001b[0;32m      9\u001b[0m io_utils\u001b[39m.\u001b[39mexport_soln(graph, \u001b[39mf\u001b[39m\u001b[39m'\u001b[39m\u001b[39m./data/solutions/\u001b[39m\u001b[39m{\u001b[39;00mp\u001b[39m}\u001b[39;00m\u001b[39m_naive.txt\u001b[39m\u001b[39m'\u001b[39m)\n",
      "Cell \u001b[1;32mIn[2], line 14\u001b[0m, in \u001b[0;36mprocess\u001b[1;34m(S)\u001b[0m\n\u001b[0;32m     11\u001b[0m     \u001b[39mcontinue\u001b[39;00m\n\u001b[0;32m     13\u001b[0m \u001b[39m# ensure there is no subset s3 such that s1 < s3 < s2\u001b[39;00m\n\u001b[1;32m---> 14\u001b[0m \u001b[39mif\u001b[39;00m \u001b[39many\u001b[39;49m(s1\u001b[39m.\u001b[39;49missubset(s3) \u001b[39mand\u001b[39;49;00m s3\u001b[39m.\u001b[39;49missubset(s2) \u001b[39mand\u001b[39;49;00m s1 \u001b[39m!=\u001b[39;49m s3 \u001b[39mand\u001b[39;49;00m s3 \u001b[39m!=\u001b[39;49m s2 \u001b[39mfor\u001b[39;49;00m s3 \u001b[39min\u001b[39;49;00m S):\n\u001b[0;32m     15\u001b[0m     \u001b[39mcontinue\u001b[39;00m\n\u001b[0;32m     17\u001b[0m edges\u001b[39m.\u001b[39mappend(s2)\n",
      "Cell \u001b[1;32mIn[2], line 14\u001b[0m, in \u001b[0;36m<genexpr>\u001b[1;34m(.0)\u001b[0m\n\u001b[0;32m     11\u001b[0m     \u001b[39mcontinue\u001b[39;00m\n\u001b[0;32m     13\u001b[0m \u001b[39m# ensure there is no subset s3 such that s1 < s3 < s2\u001b[39;00m\n\u001b[1;32m---> 14\u001b[0m \u001b[39mif\u001b[39;00m \u001b[39many\u001b[39m(s1\u001b[39m.\u001b[39missubset(s3) \u001b[39mand\u001b[39;00m s3\u001b[39m.\u001b[39missubset(s2) \u001b[39mand\u001b[39;00m s1 \u001b[39m!=\u001b[39m s3 \u001b[39mand\u001b[39;00m s3 \u001b[39m!=\u001b[39m s2 \u001b[39mfor\u001b[39;00m s3 \u001b[39min\u001b[39;00m S):\n\u001b[0;32m     15\u001b[0m     \u001b[39mcontinue\u001b[39;00m\n\u001b[0;32m     17\u001b[0m edges\u001b[39m.\u001b[39mappend(s2)\n",
      "\u001b[1;31mKeyboardInterrupt\u001b[0m: "
     ]
    }
   ],
   "source": [
    "for p in [26, 1109, 3515, 79867]:\n",
    "    path = f'./data/{p}.txt'\n",
    "    S = io_utils.import_data_sets(path)\n",
    "    \n",
    "    t0 = time.time()\n",
    "    graph = process(S)\n",
    "    duration = time.time() - t0\n",
    "    \n",
    "    io_utils.export_soln(graph, f'./data/solutions/{p}_naive.txt')\n",
    "    \n",
    "    print(f'n = {p}: in {duration:.2f} seconds')\n",
    "    print()\n",
    "    "
   ]
  }
 ],
 "metadata": {
  "kernelspec": {
   "display_name": "Python 3",
   "language": "python",
   "name": "python3"
  },
  "language_info": {
   "codemirror_mode": {
    "name": "ipython",
    "version": 3
   },
   "file_extension": ".py",
   "mimetype": "text/x-python",
   "name": "python",
   "nbconvert_exporter": "python",
   "pygments_lexer": "ipython3",
   "version": "3.10.3"
  },
  "orig_nbformat": 4,
  "vscode": {
   "interpreter": {
    "hash": "9b98987dd331e50db4fb2cd2e836ef134cefc62d880af3b21d3292ebd6bf147c"
   }
  }
 },
 "nbformat": 4,
 "nbformat_minor": 2
}
