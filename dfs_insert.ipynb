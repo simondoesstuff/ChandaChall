{
 "cells": [
  {
   "cell_type": "code",
   "execution_count": 1,
   "metadata": {},
   "outputs": [],
   "source": [
    "import dfs_insert\n",
    "import io_utils"
   ]
  },
  {
   "cell_type": "code",
   "execution_count": 2,
   "metadata": {},
   "outputs": [
    {
     "name": "stdout",
     "output_type": "stream",
     "text": [
      "{(2,): {(2, 3), (1, 2)}, (1, 2): {(1, 2, 3)}, (2, 3): {(1, 2, 3)}, (1, 2, 3): {(1, 2, 3, 4)}, (1, 2, 3, 4): {(1, 2, 3, 4, 5)}}\n"
     ]
    }
   ],
   "source": [
    "graph = dfs_insert.build_graph([(2,), (1, 2), (2, 3), (1, 2, 3), (1, 2, 3, 4), (1, 2, 3, 4, 5)])\n",
    "print(graph)"
   ]
  },
  {
   "attachments": {},
   "cell_type": "markdown",
   "metadata": {},
   "source": [
    "# Comparing with the actual solution"
   ]
  },
  {
   "cell_type": "code",
   "execution_count": 3,
   "metadata": {},
   "outputs": [],
   "source": [
    "dfs_insert.solve('./data/13.txt', './data/solutions/13_dfs_insert.txt')"
   ]
  },
  {
   "cell_type": "code",
   "execution_count": 4,
   "metadata": {},
   "outputs": [
    {
     "name": "stdout",
     "output_type": "stream",
     "text": [
      "Naive nodes: 4\n",
      "DFS Insert nodes: 4\n",
      "Key (1, 2, 3, 5) has different values in DFS Insert solution\n"
     ]
    }
   ],
   "source": [
    "naiveSoln = io_utils.import_solution('./data/solutions/13_naive.txt')\n",
    "dfsInsertSoln = io_utils.import_solution('./data/solutions/13_dfs_insert.txt')\n",
    "\n",
    "print(f\"Naive nodes: {len(naiveSoln)}\")\n",
    "print(f\"DFS Insert nodes: {len(dfsInsertSoln)}\")\n",
    "\n",
    "# differences\n",
    "\n",
    "for k, v in naiveSoln.items():\n",
    "    if k not in dfsInsertSoln:\n",
    "        print(f\"Key {k} not in DFS Insert solution\")\n",
    "    else:\n",
    "        if v != dfsInsertSoln[k]:\n",
    "            print(f\"Key {k} has different values in DFS Insert solution\")"
   ]
  }
 ],
 "metadata": {
  "kernelspec": {
   "display_name": "Python 3",
   "language": "python",
   "name": "python3"
  },
  "language_info": {
   "codemirror_mode": {
    "name": "ipython",
    "version": 3
   },
   "file_extension": ".py",
   "mimetype": "text/x-python",
   "name": "python",
   "nbconvert_exporter": "python",
   "pygments_lexer": "ipython3",
   "version": "3.10.3"
  },
  "orig_nbformat": 4,
  "vscode": {
   "interpreter": {
    "hash": "9b98987dd331e50db4fb2cd2e836ef134cefc62d880af3b21d3292ebd6bf147c"
   }
  }
 },
 "nbformat": 4,
 "nbformat_minor": 2
}
